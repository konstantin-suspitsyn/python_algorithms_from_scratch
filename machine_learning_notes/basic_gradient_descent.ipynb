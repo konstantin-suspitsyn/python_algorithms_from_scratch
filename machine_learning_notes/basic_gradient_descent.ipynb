{
 "cells": [
  {
   "cell_type": "markdown",
   "metadata": {
    "id": "MnelR40n77Ge"
   },
   "source": [
    "# Градиентный спуск для одной переменной и свободного члена\n",
    "\n"
   ]
  },
  {
   "cell_type": "markdown",
   "metadata": {
    "id": "FSy463Kr1rx9"
   },
   "source": [
    "## Вступление<br>\n",
    "Это первый ноутбук в серии, где я буду с нуля создавать базовые алгоритмы машинного обучения с объяснениями и дополнительными материлами.<br>\n",
    "Так я сам разберусь в мелочах, а впоследствии, может помогу еще кому-нибудь"
   ]
  },
  {
   "cell_type": "markdown",
   "metadata": {
    "id": "QHAqb0oZ8AX1"
   },
   "source": [
    "В задачах градиентного спуска я ставлю себе цель использовать по-минимуму уже готовых математических решений, таких как numpy"
   ]
  },
  {
   "cell_type": "markdown",
   "metadata": {
    "id": "bKs1bZuR88Lz"
   },
   "source": [
    "**Задача текущего ноутбука:**<br>\n",
    "Создать ряд функций, которые позволят прийти максимально близко к фактическому распределению данных через формулу вида $y=a*x+b$ <br>"
   ]
  },
  {
   "cell_type": "markdown",
   "metadata": {
    "id": "s24RcuTf4ncs"
   },
   "source": [
    "\n",
    "\n",
    "1.   Мы построим синтетические данные, которые подчиняются известному закону, например, $y=5*x+6$, без выбросов\n",
    "2.   Разберем теорию градиентного спуска\n",
    "3. Построим функцию нрадиентного спуска\n",
    "4. Проверим функцию на реальных данных зависимости веса от роста\n",
    "\n"
   ]
  },
  {
   "cell_type": "markdown",
   "metadata": {
    "id": "V2kJBHod5b6v"
   },
   "source": [
    "## Формируем синтетические данные"
   ]
  },
  {
   "cell_type": "code",
   "execution_count": 1,
   "metadata": {
    "id": "HevYeOPOFGfE"
   },
   "outputs": [],
   "source": [
    "import matplotlib.pyplot as plt"
   ]
  },
  {
   "cell_type": "code",
   "execution_count": 2,
   "metadata": {
    "id": "1fArSoC27_pE"
   },
   "outputs": [],
   "source": [
    "# Сначала, заполним x. От -10 до 10 с шагом 0.1\n",
    "# И по нему построим y через формулу 5*x + 6\n",
    "\n",
    "# X_true - признаки, которые мы будем подавать в функцию, чтобы получить y_pred\n",
    "X_true = []\n",
    "y_true = []\n",
    "\n",
    "# range работает только с целыми. Умножим все на 10, а при append, поделим на 10\n",
    "for i in range(-100, 100, 1):\n",
    "  X_true.append(i/10)\n",
    "  y_true.append(5*i/10+6)"
   ]
  },
  {
   "cell_type": "markdown",
   "metadata": {
    "id": "yvaYCIGZDyJW"
   },
   "source": [
    "Посморим на данные, которые нам известны"
   ]
  },
  {
   "cell_type": "code",
   "execution_count": 3,
   "metadata": {
    "colab": {
     "base_uri": "https://localhost:8080/"
    },
    "id": "mtNMb78RDJxR",
    "outputId": "656ba661-5d96-4d0a-d850-e4d8d0bdcfce"
   },
   "outputs": [
    {
     "data": {
      "text/plain": [
       "[-10.0, -9.9, -9.8, -9.7, -9.6, -9.5, -9.4, -9.3, -9.2, -9.1]"
      ]
     },
     "execution_count": 3,
     "metadata": {},
     "output_type": "execute_result"
    }
   ],
   "source": [
    "X_true[:10]"
   ]
  },
  {
   "cell_type": "code",
   "execution_count": 4,
   "metadata": {
    "colab": {
     "base_uri": "https://localhost:8080/"
    },
    "id": "u3vSzbmSEZXH",
    "outputId": "79e097c1-1326-4fbf-da0d-795fa108fcac"
   },
   "outputs": [
    {
     "data": {
      "text/plain": [
       "[-44.0, -43.5, -43.0, -42.5, -42.0, -41.5, -41.0, -40.5, -40.0, -39.5]"
      ]
     },
     "execution_count": 4,
     "metadata": {},
     "output_type": "execute_result"
    }
   ],
   "source": [
    "y_true[:10]"
   ]
  },
  {
   "cell_type": "code",
   "execution_count": 5,
   "metadata": {
    "colab": {
     "base_uri": "https://localhost:8080/",
     "height": 268
    },
    "id": "F2r2eDfJEbQg",
    "outputId": "cb7027cf-ced6-4461-a919-d37491b712b7"
   },
   "outputs": [
    {
     "data": {
      "image/png": "[encoded data removed]",
      "text/plain": [
       "<Figure size 432x288 with 1 Axes>"
      ]
     },
     "metadata": {
      "needs_background": "light"
     },
     "output_type": "display_data"
    }
   ],
   "source": [
    "plt.scatter(X_true, y_true, color='#003f5c')\n",
    "plt.show()"
   ]
  },
  {
   "cell_type": "markdown",
   "metadata": {
    "id": "q66cfW9vGIUM"
   },
   "source": [
    "Мы решаем задачу регрессии<br>Мы знаем, что линейная регрессия подчинятся закону y=a*x+b\n",
    "<br><br>\n",
    "Давайте, возьмем случайные а и b от фактического x и посчитаем новый y"
   ]
  },
  {
   "cell_type": "code",
   "execution_count": 6,
   "metadata": {
    "id": "-_e82iLtFlXg"
   },
   "outputs": [],
   "source": [
    "# Я возьму a=1 и b=1\n",
    "\n",
    "a = 1\n",
    "b = 1\n",
    "\n",
    "y_pred = []\n",
    "for f in X_true:\n",
    "  y_pred.append(f*a + b)"
   ]
  },
  {
   "cell_type": "code",
   "execution_count": 7,
   "metadata": {
    "colab": {
     "base_uri": "https://localhost:8080/",
     "height": 268
    },
    "id": "PeE84BigG9Bw",
    "outputId": "c3b0f007-0b9e-4c48-caa6-0b43a74f6bd9"
   },
   "outputs": [
    {
     "data": {
      "image/png": "[encoded data removed]",
      "text/plain": [
       "<Figure size 432x288 with 1 Axes>"
      ]
     },
     "metadata": {
      "needs_background": "light"
     },
     "output_type": "display_data"
    }
   ],
   "source": [
    "plt.scatter(X_true, y_true, color='#003f5c')\n",
    "plt.scatter(X_true, y_pred, color='#ff6361')\n",
    "plt.show()"
   ]
  },
  {
   "cell_type": "markdown",
   "metadata": {
    "id": "XwG_U4eJvZNJ"
   },
   "source": [
    "Очевидно, что мы не попали в нужные точки. Чтобы понимать насколько мы приблизились в своем предсказании, необходимо ввести кост-функцию"
   ]
  },
  {
   "cell_type": "markdown",
   "metadata": {
    "id": "VM_oOLgbv1GL"
   },
   "source": [
    "## Теоретическая часть"
   ]
  },
  {
   "cell_type": "markdown",
   "metadata": {
    "id": "xE3Y5ZeLv9sZ"
   },
   "source": [
    "Стандартный путь оптимизации выглядит так:<br>\n",
    "\n",
    "\n",
    "1.   Проверяем разницу между предсказанными данными и реальными\n",
    "2.   Если нас не устроил резуальтат, меняем веса перед $x_i$ и возврвщаемся к 1 пункту. Если результат первого пункта нас устроил, начинаем использовать выведенные коэффициенты\n",
    "<br>\n",
    "Теперь, разберем алгоритм с математической точки зрения.\n",
    "<br>\n",
    "\n",
    "Функций, которые описывают точность моеделей великое множество. Но нам нужна такая, у которой мы можем посчитать производную.<br>Я выбрал [MSE](https://en.wikipedia.org/wiki/Mean_squared_error) <br><br>$MSE = \\frac{1}{n} \\sum_{i=1}^n (y_i - \\hat{y_i})^2 $<br>\n",
    "$y_i$ - y_true<br>\n",
    "$\\hat{y_i}$ - y_pred, а также $\\hat{y_i} = a*x_i + b$, а, занчит, $MSE = \\frac{1}{n} \\sum_{i=1}^n (y_i - (a*x_i + b))^2 $\n",
    "<br>Разобрались с тем, как будем измерять качество предсказаний<br><br>\n",
    "Разберемся с изменением весов $x_i$ и свободного члена $b$. <br><br>Много лет назад, специально обученные ученые сказали, что для минимизации кост функции, мы должны двигаться в направлении противоположном направлению градиента (градиент всегда направлен в сторону увеличения функции). И сдвигаться на какой-то коэффициент, его называют learning rate.<br><br>\n",
    "Что нужно знать, чтобы посчитать градиент и сдвинуться:\n",
    "\n",
    "\n",
    "1.   [Как найти производную](http://mathprofi.ru/kak_naiti_proizvodnuju.html)\n",
    "2. Производная суммы равна сумме производных\n",
    "3.   [Производная сложной функции](http://mathprofi.ru/proizvodnaya_slozhnoi_funkcii.html)\n",
    "4. [Градиент и частные производные](http://mathprofi.ru/proizvodnaja_po_napravleniju_i_gradient.html)\n",
    "<br><br>\n",
    "Мы готовы посчитать частные производные MSE по $a$ и по $b$<br><br>\n",
    "Частная производная по $a$ равна $ \\frac{\\delta f}{\\delta a} = \\frac{1}{n} \\sum_{i=1}^n-2*(y-(a*x_i+b))*x_i $ <br><br>\n",
    "Частная производная по $b$ равна $ \\frac{\\delta f}{\\delta b} = \\frac{1}{n} \\sum_{i=1}^n-2*(y-(a*x_i+b)) $ "
   ]
  },
  {
   "cell_type": "markdown",
   "metadata": {
    "id": "yIOAJiMOUslz"
   },
   "source": [
    "# Код градиентного спуска"
   ]
  },
  {
   "cell_type": "code",
   "execution_count": 8,
   "metadata": {
    "id": "bO0Kgh_wHIJ5"
   },
   "outputs": [],
   "source": [
    "# Создаем MSE кост-функцию\n",
    "def mse_function(y_true: list, y_pred: list) -> float:\n",
    "  '''\n",
    "  Функция, которая считет MSE\n",
    "\n",
    "  :param y_true: значения y, которые мы знаем из фактических данных\n",
    "  :param y_pred: значения y, которые мы получили в данный момент\n",
    "\n",
    "  :return mse: значеник MSE по формуле\n",
    "  '''\n",
    "  # Кол-во значений, которое мы сравнивам\n",
    "  n = len(y_true)\n",
    "  # Стартуем с нуля\n",
    "  pre_mse = 0\n",
    "  for index, value in enumerate(y_true):\n",
    "    pre_mse += (value - y_pred[index])**2\n",
    "  mse = pre_mse/n\n",
    "  return mse"
   ]
  },
  {
   "cell_type": "markdown",
   "metadata": {
    "id": "G-BpsakiU5kM"
   },
   "source": [
    "Посчитаем MSE. Вдруг, мы уже попали"
   ]
  },
  {
   "cell_type": "code",
   "execution_count": 9,
   "metadata": {
    "colab": {
     "base_uri": "https://localhost:8080/"
    },
    "id": "Bs8oLuWYYXNI",
    "outputId": "56485dc1-6f1f-4077-ba03-a77409ece294"
   },
   "outputs": [
    {
     "data": {
      "text/plain": [
       "556.36"
      ]
     },
     "execution_count": 9,
     "metadata": {},
     "output_type": "execute_result"
    }
   ],
   "source": [
    "mse_function(y_true, y_pred)"
   ]
  },
  {
   "cell_type": "markdown",
   "metadata": {
    "id": "2KsRV9rGbTVG"
   },
   "source": [
    "Не попали. Давайте напишем алгоритм, который будет менять a и b"
   ]
  },
  {
   "cell_type": "code",
   "execution_count": 10,
   "metadata": {
    "id": "Xs_4LYbJYnZE"
   },
   "outputs": [],
   "source": [
    "# learning rate - на него мы будем делать сдвиг\n",
    "lr = 0.003\n",
    "# Максимальное количество шагов, чтобы не ждать вечность, \n",
    "# если мы не попадем в оптимум\n",
    "max_steps = 30000\n",
    "# Стартовый mse. Просто на всякий случай\n",
    "mse = 999\n",
    "# Стартовые коэффициенты\n",
    "a=2\n",
    "b=-1\n",
    "# Счетчик шагов\n",
    "step = 0\n",
    "\n",
    "# Сделаем трекинг обучения\n",
    "mse_list = []\n",
    "a_list = []\n",
    "b_list = []\n",
    "y_preds = []\n",
    "\n",
    "y_pred = []\n",
    "# количество элементов в предсказаниях/реальных данных\n",
    "n=len(y_true)\n",
    "\n",
    "# модель будет работать пока мы не пройдем все шаги, \n",
    "# или разница по MSE не будет меньше 1e-10\n",
    "while (step <= max_steps) and (mse >= 1e-10):\n",
    "  # Создаем переменные градиентов\n",
    "  grad_a=0\n",
    "  grad_b=0\n",
    "  # Вычисляем сдвиги, как было описано в теории\n",
    "  for i, x in enumerate(X_true):\n",
    "    grad_a += -2*(y_true[i] - (a*x + b))* x\n",
    "    grad_b += -2*(y_true[i] - (a*x + b))\n",
    "  grad_a = grad_a/n\n",
    "  grad_b = grad_b/n\n",
    "  # Делаем сдвиг в сторону противоположную градиенту с учетом lr\n",
    "  a -= lr*grad_a\n",
    "  b -= lr*grad_b\n",
    "  # Считаем новые предасказания\n",
    "  y_pred = [a*x+b for x in X_true]\n",
    "  # Проверяем MSE\n",
    "  mse = mse_function(y_true, y_pred)\n",
    "  # Записываем результаты\n",
    "  mse_list.append(mse)\n",
    "  a_list.append(a)\n",
    "  b_list.append(b)\n",
    "  y_preds.append(y_pred)\n",
    "  step += 1"
   ]
  },
  {
   "cell_type": "code",
   "execution_count": 11,
   "metadata": {
    "id": "18tzhYdmdAF6"
   },
   "outputs": [],
   "source": [
    "steps_x = []\n",
    "for i, f in enumerate(mse_list):\n",
    "  steps_x.append(i+1)"
   ]
  },
  {
   "cell_type": "code",
   "execution_count": 12,
   "metadata": {
    "colab": {
     "base_uri": "https://localhost:8080/",
     "height": 326
    },
    "id": "bHHYLg8cc6We",
    "outputId": "d069b24a-9a51-45fe-b3de-6fc61fcd810d"
   },
   "outputs": [
    {
     "data": {
      "image/png": "[encoded data removed]",
      "text/plain": [
       "<Figure size 1080x360 with 1 Axes>"
      ]
     },
     "metadata": {
      "needs_background": "light"
     },
     "output_type": "display_data"
    }
   ],
   "source": [
    "fig = plt.figure(figsize=(15, 5))\n",
    "ax = fig.add_subplot()\n",
    "ax.scatter(steps_x, mse_list, color='#ff6361')\n",
    "plt.title('Изменение MSE')\n",
    "plt.show()"
   ]
  },
  {
   "cell_type": "code",
   "execution_count": 13,
   "metadata": {
    "colab": {
     "base_uri": "https://localhost:8080/",
     "height": 325
    },
    "id": "fJuAoK9ieXU4",
    "outputId": "4c3d724e-f296-4d65-e7b5-35eccb3a2678"
   },
   "outputs": [
    {
     "data": {
      "image/png": "[encoded data removed]",
      "text/plain": [
       "<Figure size 1080x360 with 1 Axes>"
      ]
     },
     "metadata": {
      "needs_background": "light"
     },
     "output_type": "display_data"
    }
   ],
   "source": [
    "fig = plt.figure(figsize=(15, 5))\n",
    "ax = fig.add_subplot()\n",
    "alpha = 0.5\n",
    "for j in range(0, len(y_preds), 20):\n",
    "  alpha += 0.5/(len(y_preds)/20)\n",
    "  ax.plot(X_true, y_preds[j], color='#ff6361', alpha=alpha)\n",
    "ax.scatter(X_true, y_true, color='#003f5c')\n",
    "plt.title('Обучение')\n",
    "plt.show()"
   ]
  },
  {
   "cell_type": "code",
   "execution_count": 14,
   "metadata": {
    "colab": {
     "base_uri": "https://localhost:8080/"
    },
    "id": "YMeoC0_dge23",
    "outputId": "a8dcd47e-cc92-4ad4-fadb-1518dc5c4a0f"
   },
   "outputs": [
    {
     "name": "stdout",
     "output_type": "stream",
     "text": [
      "Формула, по которой мы будем формирвать предсказания: 5.0000*x+6.0000\n",
      "Ошибка по MSE составила: 0.0000\n"
     ]
    }
   ],
   "source": [
    "print('Формула, по которой мы будем формирвать предсказания: {:.4f}*x+{:.4f}'.format(a, b))\n",
    "print('Ошибка по MSE составила: {:.4f}'.format(mse))"
   ]
  },
  {
   "cell_type": "markdown",
   "metadata": {
    "id": "ILZatuB4gN6K"
   },
   "source": [
    "Тест прошел успешно. Напишем класс, который будет обучаться"
   ]
  },
  {
   "cell_type": "markdown",
   "metadata": {
    "id": "sQ0UHJJhzuWB"
   },
   "source": [
    "## Класс функции градиента"
   ]
  },
  {
   "cell_type": "code",
   "execution_count": 27,
   "metadata": {
    "id": "-snTJ6WrhBTH"
   },
   "outputs": [],
   "source": [
    "class GradientDescents:\n",
    "  \n",
    "  '''\n",
    "  Имплементация градиентного спуска с нуля\n",
    "  '''\n",
    "\n",
    "  def progress_tracker(self, step: int, cost_function: float) -> None:\n",
    "    '''\n",
    "    Функция позволяет отслеживать онлайн прогресс\n",
    "\n",
    "    :param step: текущий шаг\n",
    "    :param cost_function: значение кост-функции в данный момент\n",
    "\n",
    "    '''\n",
    "    from IPython.display import clear_output\n",
    "    clear_output(wait=True)\n",
    "    print('Шаг: {}'.format(step))\n",
    "    print('Функция потерь: {:.2f}'.format(cost_function))\n",
    "\n",
    "  def mse_function(self, y_true: list, y_pred: list) -> float:\n",
    "    '''\n",
    "    Функция, которая считет MSE\n",
    "\n",
    "    :param y_true: значения y, которые мы знаем из фактических данных\n",
    "    :param y_pred: значения y, которые мы получили в данный момент\n",
    "\n",
    "    :return mse: значеник MSE по формуле\n",
    "    '''\n",
    "    # Кол-во значений, которое мы сравнивам\n",
    "    n = len(y_true)\n",
    "    # Стартуем с нуля\n",
    "    pre_mse = 0\n",
    "    for index, value in enumerate(y_true):\n",
    "      pre_mse += (value - y_pred[index])**2\n",
    "    mse = pre_mse/n\n",
    "    return mse\n",
    "  \n",
    "  def gradient_descent(self, X_true: list, y_true: list, \\\n",
    "                       start_a: float = 1.0, start_b: float = 1.0, \\\n",
    "                       learning_rate: float = 0.003, max_steps: int =30000, \\\n",
    "                       save_steps: int = 0) -> dict:\n",
    "    '''\n",
    "    Простейший градиентный спуск для формул вида y=a*x+b\n",
    "\n",
    "    :param start_a: стартовое значение a\n",
    "    :param start_b: стартовое значение b\n",
    "    :param learning_rate: коэффициент обучения\n",
    "    :param max_steps: максимальное кол-во шагов, при которых алгоритм остановится\n",
    "    :param save_steps: если 0, сохранится только последний шаг\n",
    "                       если значение отличное от нуля, \n",
    "                       будет сохраняться каждый i-ый шаг\n",
    "                       \n",
    "    :return return_dict: {\n",
    "                :return a: значение a\n",
    "                :return b: значение b\n",
    "                :return mse: значение MSE по формуле\n",
    "                :return steps: кол-во прошедших шагов\n",
    "                :return mse_list: значение списка MSE по формуле для графика, если save_steps > 0\n",
    "                :return a_list: значение a для графика, если save_steps > 0\n",
    "                :return b_list: значение b для графика, если save_steps > 0\n",
    "                        }\n",
    "    '''\n",
    "    # Инициализируем первый шаг\n",
    "    step = 0\n",
    "    a = start_a\n",
    "    b = start_b\n",
    "    mse = 9999999\n",
    "    mse_prev = 0\n",
    "\n",
    "    # Сделаем трекинг обучения\n",
    "    mse_list = []\n",
    "    a_list = []\n",
    "    b_list = []\n",
    "\n",
    "    # Список посчитанных y для кост-функции\n",
    "    y_pred = []\n",
    "    # количество элементов в предсказаниях/реальных данных\n",
    "    n=len(y_true)\n",
    "\n",
    "    # Создаем переменные градиентов\n",
    "    grad_a=0\n",
    "    grad_b=0\n",
    "\n",
    "    # модель будет работать пока мы не пройдем все шаги, \n",
    "    # или разница по MSE не будет меньше 1e-10\n",
    "    # или разница между MSE и MSE_prev меньше 1e-10\n",
    "    while (step <= max_steps) and (mse >= 1e-10) \\\n",
    "           and (abs(mse - mse_prev) >= 1e-5):\n",
    "      \n",
    "      mse_prev = mse\n",
    "      # Вычисляем сдвиги, как было описано в теории\n",
    "      for i, x in enumerate(X_true):\n",
    "        grad_a += -2*(y_true[i] - (a*x + b))* x\n",
    "        grad_b += -2*(y_true[i] - (a*x + b))\n",
    "      grad_a = grad_a/n\n",
    "      grad_b = grad_b/n\n",
    "      # Делаем сдвиг в сторону противоположную градиенту с учетом lr\n",
    "      a -= learning_rate*grad_a\n",
    "      b -= learning_rate*grad_b\n",
    "      # Считаем новые предасказания\n",
    "      y_pred = [a*x+b for x in X_true]\n",
    "      # Проверяем MSE\n",
    "      mse = self.mse_function(y_true, y_pred)\n",
    "\n",
    "      step += 1\n",
    "\n",
    "      # Заполняем данные для отслеживания прогресса\n",
    "      if save_steps > 0:\n",
    "        if step % save_steps == 0:\n",
    "          mse_list.append(mse)\n",
    "          a_list.append(a)\n",
    "          b_list.append(b)\n",
    "      \n",
    "      self.progress_tracker(step-1, mse)\n",
    "\n",
    "    if save_steps > 0:\n",
    "      return_dict = {'a': a, 'b': b, 'mse':mse, 'steps': step-1, \\\n",
    "            'mse_list': mse_list, 'a_list': a_list, 'b_list': b_list}\n",
    "    else:\n",
    "      return_dict = {'a': a, 'b': b, 'mse':mse, 'steps': step-1}\n",
    "\n",
    "    return return_dict"
   ]
  },
  {
   "cell_type": "markdown",
   "metadata": {
    "id": "Ot7Q8-7C4wa5"
   },
   "source": [
    "# Проверка на реальных данных"
   ]
  },
  {
   "cell_type": "markdown",
   "metadata": {
    "id": "1jvdjwxq5Btl"
   },
   "source": [
    "Я взял dataset [соотношения роста и веса](https://gist.github.com/nstokoe/7d4717e96c21b8ad04ec91f361b000cb#file-weight-height-csv) и применил на нем написанный алгоритм"
   ]
  },
  {
   "cell_type": "code",
   "execution_count": 17,
   "metadata": {
    "id": "1gN_KvSxirUk"
   },
   "outputs": [],
   "source": [
    "import pandas as pd\n",
    "df_hw = pd.read_csv('data/weight-height.csv')"
   ]
  },
  {
   "cell_type": "code",
   "execution_count": 18,
   "metadata": {
    "colab": {
     "base_uri": "https://localhost:8080/",
     "height": 206
    },
    "id": "ELX9CvPuqHum",
    "outputId": "37554c27-5bcf-446b-a60b-844c3cd91d4d"
   },
   "outputs": [
    {
     "data": {
      "text/html": [
       "<div>\n",
       "<style scoped>\n",
       "    .dataframe tbody tr th:only-of-type {\n",
       "        vertical-align: middle;\n",
       "    }\n",
       "\n",
       "    .dataframe tbody tr th {\n",
       "        vertical-align: top;\n",
       "    }\n",
       "\n",
       "    .dataframe thead th {\n",
       "        text-align: right;\n",
       "    }\n",
       "</style>\n",
       "<table border=\"1\" class=\"dataframe\">\n",
       "  <thead>\n",
       "    <tr style=\"text-align: right;\">\n",
       "      <th></th>\n",
       "      <th>Gender</th>\n",
       "      <th>Height</th>\n",
       "      <th>Weight</th>\n",
       "    </tr>\n",
       "  </thead>\n",
       "  <tbody>\n",
       "    <tr>\n",
       "      <th>0</th>\n",
       "      <td>Male</td>\n",
       "      <td>73.847017</td>\n",
       "      <td>241.893563</td>\n",
       "    </tr>\n",
       "    <tr>\n",
       "      <th>1</th>\n",
       "      <td>Male</td>\n",
       "      <td>68.781904</td>\n",
       "      <td>162.310473</td>\n",
       "    </tr>\n",
       "    <tr>\n",
       "      <th>2</th>\n",
       "      <td>Male</td>\n",
       "      <td>74.110105</td>\n",
       "      <td>212.740856</td>\n",
       "    </tr>\n",
       "    <tr>\n",
       "      <th>3</th>\n",
       "      <td>Male</td>\n",
       "      <td>71.730978</td>\n",
       "      <td>220.042470</td>\n",
       "    </tr>\n",
       "    <tr>\n",
       "      <th>4</th>\n",
       "      <td>Male</td>\n",
       "      <td>69.881796</td>\n",
       "      <td>206.349801</td>\n",
       "    </tr>\n",
       "  </tbody>\n",
       "</table>\n",
       "</div>"
      ],
      "text/plain": [
       "  Gender     Height      Weight\n",
       "0   Male  73.847017  241.893563\n",
       "1   Male  68.781904  162.310473\n",
       "2   Male  74.110105  212.740856\n",
       "3   Male  71.730978  220.042470\n",
       "4   Male  69.881796  206.349801"
      ]
     },
     "execution_count": 18,
     "metadata": {},
     "output_type": "execute_result"
    }
   ],
   "source": [
    "df_hw.head()"
   ]
  },
  {
   "cell_type": "code",
   "execution_count": 19,
   "metadata": {
    "id": "gxwdaYNvqKeF"
   },
   "outputs": [],
   "source": [
    "X_true = df_hw['Height'].to_list()\n",
    "y_true = df_hw['Weight'].to_list()"
   ]
  },
  {
   "cell_type": "code",
   "execution_count": 20,
   "metadata": {
    "colab": {
     "base_uri": "https://localhost:8080/",
     "height": 326
    },
    "id": "LN6Bc0Ov0GXy",
    "outputId": "abfc5241-c1dd-4a53-bc3b-62948be25490"
   },
   "outputs": [
    {
     "data": {
      "image/png": "[encoded data removed]",
      "text/plain": [
       "<Figure size 1080x360 with 1 Axes>"
      ]
     },
     "metadata": {
      "needs_background": "light"
     },
     "output_type": "display_data"
    }
   ],
   "source": [
    "fig = plt.figure(figsize=(15, 5))\n",
    "ax = fig.add_subplot()\n",
    "ax.scatter(X_true, y_true, color='#003f5c', label='Реальные данные')\n",
    "ax.plot(X_true, [f*6 + -256 for f in X_true], color='#ff6361', label='Старт обучения')\n",
    "plt.title('Стартовая позиция обучения')\n",
    "ax.legend()\n",
    "plt.show()"
   ]
  },
  {
   "cell_type": "code",
   "execution_count": 21,
   "metadata": {
    "id": "gjPOQa12Vd4F"
   },
   "outputs": [
    {
     "name": "stdout",
     "output_type": "stream",
     "text": [
      "Шаг: 300000\n",
      "Функция потерь: 162.75\n"
     ]
    }
   ],
   "source": [
    "grad_test = GradientDescents()\n",
    "gd = grad_test.gradient_descent(X_true, y_true, \\\n",
    "                                start_a=6, start_b=-256, \\\n",
    "                                learning_rate=0.0002, max_steps=300000, \\\n",
    "                                save_steps=0)"
   ]
  },
  {
   "cell_type": "code",
   "execution_count": 22,
   "metadata": {
    "colab": {
     "base_uri": "https://localhost:8080/",
     "height": 326
    },
    "id": "eQMABz-ZK2gn",
    "outputId": "aaa8a0ff-3b03-4448-c21c-35b7e6852a83"
   },
   "outputs": [
    {
     "data": {
      "image/png": "[encoded data removed]",
      "text/plain": [
       "<Figure size 1080x360 with 1 Axes>"
      ]
     },
     "metadata": {
      "needs_background": "light"
     },
     "output_type": "display_data"
    }
   ],
   "source": [
    "fig = plt.figure(figsize=(15, 5))\n",
    "ax = fig.add_subplot()\n",
    "ax.scatter(X_true, y_true, color='#003f5c', label='Реальные данные')\n",
    "ax.plot(X_true, [f*6 + -256 for f in X_true], color='#ff6361', \\\n",
    "        label='Старт обучения')\n",
    "plt.plot(X_true, [f*gd['a'] + gd['b'] for f in X_true], color='#ffa600', \\\n",
    "         label='Текущая позиция обучения')\n",
    "plt.title('Прогресс обучения')\n",
    "ax.legend()\n",
    "plt.show()"
   ]
  },
  {
   "cell_type": "code",
   "execution_count": 23,
   "metadata": {
    "colab": {
     "base_uri": "https://localhost:8080/"
    },
    "id": "OEun9kWN-RnA",
    "outputId": "d2a1888d-39a4-4d94-eacc-fa05ea3dfda4"
   },
   "outputs": [
    {
     "name": "stdout",
     "output_type": "stream",
     "text": [
      "Формула, по которой мы будем формирвать предсказания: 6.7654*x+-287.3483\n",
      "Ошибка по MSE составила: 162.7514\n"
     ]
    }
   ],
   "source": [
    "print('Формула, по которой мы будем формирвать предсказания: {:.4f}*x+{:.4f}'.format(gd['a'], gd['b']))\n",
    "print('Ошибка по MSE составила: {:.4f}'.format(gd['mse']))"
   ]
  },
  {
   "cell_type": "markdown",
   "metadata": {
    "id": "Q_cpJhSN-1al"
   },
   "source": [
    "Можно и дальше продолжать обучение, но принцип понятен. Код работает"
   ]
  }
 ],
 "metadata": {
  "accelerator": "GPU",
  "colab": {
   "collapsed_sections": [],
   "name": "basic_gradient_descent.ipynb",
   "provenance": [],
   "toc_visible": true
  },
  "kernelspec": {
   "display_name": "Python 3",
   "language": "python",
   "name": "python3"
  },
  "language_info": {
   "codemirror_mode": {
    "name": "ipython",
    "version": 3
   },
   "file_extension": ".py",
   "mimetype": "text/x-python",
   "name": "python",
   "nbconvert_exporter": "python",
   "pygments_lexer": "ipython3",
   "version": "3.8.5"
  }
 },
 "nbformat": 4,
 "nbformat_minor": 1
}
