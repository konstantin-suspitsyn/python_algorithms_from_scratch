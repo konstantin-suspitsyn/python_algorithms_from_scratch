{
  "nbformat": 4,
  "nbformat_minor": 0,
  "metadata": {
    "colab": {
      "name": "msgd.ipynb",
      "provenance": [],
      "collapsed_sections": []
    },
    "kernelspec": {
      "name": "python3",
      "display_name": "Python 3"
    },
    "language_info": {
      "name": "python"
    },
    "accelerator": "GPU"
  },
  "cells": [
    {
      "cell_type": "markdown",
      "metadata": {
        "id": "XvF-hAioh0-x"
      },
      "source": [
        "# Стохастический градиентный спуск с ускорением"
      ]
    },
    {
      "cell_type": "markdown",
      "metadata": {
        "id": "WcBmS2HmiABf"
      },
      "source": [
        "В предыдущих ноутбуках я написал код для [Batch Gradient Descent](https://github.com/konstantin-suspitsyn/algorithms-from-scratch/blob/main/basic_gd_milti_variables.ipynb)<br><br>Продолжим далее, описывать алгоритмы. На этот раз, я буду использовать список алгоритмов из документа [An overview of gradient descent optimizationalgorithms](https://arxiv.org/pdf/1609.04747.pdf). Одно из основных условий — использовать по минимому готовых математических алгоритмов (умножкение вектор на вектор, матрица на вектор и т. д.)"
      ]
    },
    {
      "cell_type": "markdown",
      "metadata": {
        "id": "5NmCrfLQqn5D"
      },
      "source": [
        "## Теория"
      ]
    },
    {
      "cell_type": "markdown",
      "metadata": {
        "id": "Sn1sPzDejxMR"
      },
      "source": [
        "Стохастический градиентный спуск с ускорением строится на стохастическом градиентном спуске. В него подается случайная строка из известных в данных для обучения и вся работа по вычислению градиента ведется по одной строке. Потом переходят к следующей случайной строке. Это долго, поэтому придумали ускорение"
      ]
    },
    {
      "cell_type": "markdown",
      "metadata": {
        "id": "Z5MsoKbFtsHU"
      },
      "source": [
        "Очень интересно, но я нашел 2 вида формул в разных статьях:<br>\n",
        "1. [An overview of gradient descent optimization algorithms](https://arxiv.org/pdf/1609.04747.pdf):<br>\n",
        "$v_t = \\gamma * v_{t-1} + \\alpha \\nabla_\\theta f(\\theta)$<br>\n",
        "$\\theta = \\theta - v_t$\n",
        "2. [An Improved Analysis of Stochastic Gradient Descentwith Momentum](https://arxiv.org/pdf/2007.07989.pdf):<br>\n",
        "$v_t = \\gamma * v_{t-1} + (1-\\gamma) \\nabla_\\theta f(\\theta)$<br>\n",
        "$\\theta = \\theta - \\alpha v_t$<br>\n",
        "Где: <br>$\\nabla_\\theta f(\\theta)$ - частная производная по $\\theta$<br>\n",
        "$\\gamma$ - вес ускорения. $\\gamma \\in [0,1)$<br>\n",
        "$\\alpha$ - learning rate (шаг сдвига)"
      ]
    },
    {
      "cell_type": "markdown",
      "metadata": {
        "id": "ofOzD07vy8_5"
      },
      "source": [
        "Реализую оба и посмотрим где MSE меньше после одинакового количества шагов"
      ]
    },
    {
      "cell_type": "markdown",
      "metadata": {
        "id": "_9K5Y7bb17dW"
      },
      "source": [
        "Берем старый класс. Из него мы будем использовать функции progress_tracker и mse_function"
      ]
    },
    {
      "cell_type": "code",
      "metadata": {
        "id": "JLfX3_Lih-KD"
      },
      "source": [
        "class GradientDescents:\n",
        "  \n",
        "  '''\n",
        "  Имплементация градиентного спуска с нуля\n",
        "  '''\n",
        "\n",
        "  import random\n",
        "\n",
        "  def progress_tracker(self, step: int, cost_function: float) -> None:\n",
        "    '''\n",
        "    Функция позволяет отслеживать онлайн прогресс\n",
        "\n",
        "    :param step: текущий шаг\n",
        "    :param cost_function: значение кост-функции в данный момент\n",
        "\n",
        "    '''\n",
        "    from IPython.display import clear_output\n",
        "    clear_output(wait=True)\n",
        "    print('Шаг: {}'.format(step))\n",
        "    print('Функция потерь: {:.2f}'.format(cost_function))\n",
        "\n",
        "  def mse_function(self, y_true: list, y_pred: list) -> float:\n",
        "    '''\n",
        "    Функция, которая считет MSE\n",
        "\n",
        "    :param y_true: значения y, которые мы знаем из фактических данных\n",
        "    :param y_pred: значения y, которые мы получили в данный момент\n",
        "\n",
        "    :return mse: значеник MSE по формуле\n",
        "    '''\n",
        "    # Кол-во значений, которое мы сравнивам\n",
        "    n = len(y_true)\n",
        "    # Стартуем с нуля\n",
        "    pre_mse = 0\n",
        "    for index, value in enumerate(y_true):\n",
        "      pre_mse += (value - y_pred[index])**2\n",
        "    mse = pre_mse/n\n",
        "    return mse\n",
        "\n",
        "  def gradient_descent_multi(self, X_true: list, y_true: list, \\\n",
        "                              weights: list = None, max_steps: int = 10000, \\\n",
        "                              learning_rate: float = 0.003, \\\n",
        "                              save_steps: int = 0) -> dict:\n",
        "    '''\n",
        "    Градиентный спуск для нескольких переменных\n",
        "\n",
        "    :param X_true: фактические аттрибуты\n",
        "    :param y_true: фактические результаты\n",
        "    :param weights: стартовые веса, если не хотим начать обучение с рандома\n",
        "    :param learning_rate: коэффициент обучения\n",
        "    :param max_steps: максимальное кол-во шагов, при которых алгоритм остановится\n",
        "    :param save_steps: если 0, сохранится только последний шаг\n",
        "                        если значение отличное от нуля, \n",
        "                        будет сохраняться каждый i-ый шаг\n",
        "    \n",
        "    :return {\n",
        "      :return weights: веса регресси\n",
        "      :return mse: значение MSE\n",
        "      :return steps: количество шагов\n",
        "      :return mse_list: значение MSE во вреия обучения, если save_steps > 0\n",
        "      :return weights_list: веса по мере обучения, если save_steps > 0\n",
        "    }\n",
        "    '''\n",
        "\n",
        "    # Код для данных с 1 аттрибутом\n",
        "    if (type(X_true[0])==int) or (type(X_true[0])==float):\n",
        "      for i, x in enumerate(X_true):\n",
        "        X_true[i]=[x,1]\n",
        "    elif (type(X_true[0])==list) and (len(X_true[0])==1):\n",
        "      for i, x in enumerate(X_true):\n",
        "        X_true[i].append(1)\n",
        "\n",
        "    # Создаем рандомный спиок весов данных равный количеству атрибутов\n",
        "    if weights == None:\n",
        "      weights = [self.random.random() for f in X_true[0]]\n",
        "\n",
        "    if save_steps > 0:\n",
        "      mse_list = []\n",
        "      weights_list = []\n",
        "    \n",
        "    # MSE предыдущего шага\n",
        "    mse_prev = 0\n",
        "    mse = 999\n",
        "\n",
        "    # Кол-во экспериментов, которые у нас есть      \n",
        "    n = len(X_true)\n",
        "\n",
        "    step = 0\n",
        "    while (step <= max_steps) and (abs(mse_prev-mse)>1e-5):\n",
        "      # Считаем градиенты\n",
        "      gradients = []\n",
        "      for wi, w_value in enumerate(weights):\n",
        "        current_gradient=0\n",
        "        for yi, y_t_val in enumerate(y_true):\n",
        "          current_gradient += -2*(y_t_val - sum([w*x for w,x in \\\n",
        "                                                 zip(weights,X_true[yi])]))* X_true[yi][wi]\n",
        "        current_gradient = current_gradient/n\n",
        "        gradients.append(current_gradient)\n",
        "\n",
        "      # Делаем сдвиг весов\n",
        "      for gi, gr_value in enumerate(gradients):\n",
        "        weights[gi] = weights[gi] - learning_rate*gr_value\n",
        "\n",
        "      #Считаем y_pred\n",
        "      y_pred = []\n",
        "      for X_current in X_true:\n",
        "        y_pred.append(sum([w*x for w,x in zip(weights,X_current)]))\n",
        "      \n",
        "      step +=1\n",
        "      mse_prev = mse\n",
        "      mse = self.mse_function(y_true, y_pred)\n",
        "      self.progress_tracker(step, mse)\n",
        "\n",
        "      if save_steps > 0:\n",
        "        if step % save_steps == 0:\n",
        "          mse_list.append(mse)\n",
        "          weights_list.append(weights)\n",
        "\n",
        "    if save_steps > 0:\n",
        "      return_dict = {'weights': weights, 'mse':mse, 'steps': step-1, \\\n",
        "                      'mse_list': mse_list, 'weights_list': weights_list}\n",
        "    else:\n",
        "      return_dict = {'weights': weights, 'mse':mse, 'steps': step-1}\n",
        "\n",
        "    return return_dict"
      ],
      "execution_count": null,
      "outputs": []
    },
    {
      "cell_type": "code",
      "metadata": {
        "id": "hQ-OH0by2Ly8"
      },
      "source": [
        "new_grad = GradientDescents()"
      ],
      "execution_count": null,
      "outputs": []
    },
    {
      "cell_type": "markdown",
      "metadata": {
        "id": "S5dD5x5X2S6u"
      },
      "source": [
        "Реализуем\n",
        "1. [An overview of gradient descent optimization algorithms](https://arxiv.org/pdf/1609.04747.pdf):<br>\n",
        "$v_t = \\gamma * v_{t-1} + \\alpha \\nabla_\\theta f(\\theta)$<br>\n",
        "$\\theta = \\theta - v_t$"
      ]
    },
    {
      "cell_type": "code",
      "metadata": {
        "id": "T734I5oW9rGT"
      },
      "source": [
        "import random"
      ],
      "execution_count": null,
      "outputs": []
    },
    {
      "cell_type": "code",
      "metadata": {
        "id": "CBO8J6ec30cw"
      },
      "source": [
        "# Загрузим данные из Boston Dataset\n",
        "from sklearn.datasets import load_boston\n",
        "X, y = load_boston(return_X_y=True)\n",
        "X_true = []\n",
        "for i in X:\n",
        "  x_s_list = [f for f in i]\n",
        "  # x_s_list.append(1)\n",
        "  X_true.append(x_s_list)\n",
        "y_true = [f for f in y]\n",
        "del X, y"
      ],
      "execution_count": null,
      "outputs": []
    },
    {
      "cell_type": "code",
      "metadata": {
        "colab": {
          "base_uri": "https://localhost:8080/"
        },
        "id": "lEG0Uy4Q2Oi9",
        "outputId": "0d134be1-6701-434b-f658-0a11677a0469"
      },
      "source": [
        "learning_rate = 0.0000003\n",
        "max_steps = 50000\n",
        "step = 0\n",
        "\n",
        "# Ускорение\n",
        "gamma = 0.5\n",
        "\n",
        "# Для чистоты выбора алгоритма, я буду стартовать веса с 1\n",
        "weights = [1] * len(X_true[0])\n",
        "\n",
        "# Кол-во элементов в строке X\n",
        "n = len(X_true[0])\n",
        "\n",
        "# Стартуем градиенты\n",
        "# Текущий градиент\n",
        "gradient = []\n",
        "# Предыдущий сдвиг\n",
        "v_t_previous = [0] * len(X_true[0])\n",
        "\n",
        "all_mses_algo1 = []\n",
        "\n",
        "while step < max_steps:\n",
        "  # Для чистоты эксперимента, каждый рандом будет равен step\n",
        "  random.seed(step)\n",
        "  # Берем номер для выбора данных\n",
        "  index = random.randint(0, n-1)\n",
        "  # X и y текущего шага\n",
        "  X_current = X_true[index]\n",
        "  y_current = y_true[index]\n",
        "  gradient = []\n",
        "  # Вычисляем текущий градиента\n",
        "  for x_i in X_current:\n",
        "    current_gradient = -2*(y_current - sum([w*x for w,x in \\\n",
        "                                          zip(weights,X_current)]))*x_i\n",
        "    gradient.append(current_gradient)\n",
        "  \n",
        "  # Применяем ускорение к предыдущему сдвигу\n",
        "  momentum_v_t_previous = [f*gamma for f in v_t_previous]\n",
        "  # Применяем шаг к градиенту\n",
        "  step_gradient = [f*learning_rate for f in gradient]\n",
        "  # Получаем новый сдвиг\n",
        "  v_t = [a+b for a,b in zip(momentum_v_t_previous,step_gradient)]\n",
        "  # В предыдущий сдвиг записываем новый\n",
        "  v_t_previous = v_t\n",
        "\n",
        "  # Делаем сдвиг весов\n",
        "  for vti, vti_value in enumerate(v_t):\n",
        "    weights[vti] = weights[vti] - vti_value\n",
        "\n",
        "  y_pred = sum([w*x for w,x in zip(weights,X_current)])\n",
        "  mse = new_grad.mse_function([y_pred], [y_current])\n",
        "\n",
        "  step += 1\n",
        "\n",
        "  new_grad.progress_tracker(step, mse)\n",
        "\n",
        "  # Последим за прогрессом\n",
        "  y_pred_algo_1 = []\n",
        "  for X_current in X_true:\n",
        "    y_pred_algo_1.append(sum([w*x for w,x in zip(weights,X_current)]))\n",
        "\n",
        "  mse_algo_1 = new_grad.mse_function(y_pred_algo_1, y_true)\n",
        "\n",
        "\n",
        "  all_mses_algo1.append(mse_algo_1)\n"
      ],
      "execution_count": null,
      "outputs": [
        {
          "output_type": "stream",
          "text": [
            "Шаг: 50000\n",
            "Функция потерь: 5.41\n"
          ],
          "name": "stdout"
        }
      ]
    },
    {
      "cell_type": "markdown",
      "metadata": {
        "id": "skmY1jijC1Q9"
      },
      "source": [
        "Посчитаем общий MSE"
      ]
    },
    {
      "cell_type": "markdown",
      "metadata": {
        "id": "esQi-n_GDZlx"
      },
      "source": [
        "Реализуем\n",
        "2. [An Improved Analysis of Stochastic Gradient Descentwith Momentum](https://arxiv.org/pdf/2007.07989.pdf):<br>\n",
        "$v_t = \\gamma * v_{t-1} + (1-\\gamma) \\nabla_\\theta f(\\theta)$<br>\n",
        "$\\theta = \\theta - \\alpha v_t$<br>"
      ]
    },
    {
      "cell_type": "code",
      "metadata": {
        "colab": {
          "base_uri": "https://localhost:8080/"
        },
        "id": "HYuGtKnVDSIn",
        "outputId": "31ce58b1-a790-432c-b52b-88defef674d1"
      },
      "source": [
        "learning_rate = 0.0000003\n",
        "max_steps = 50000\n",
        "step = 0\n",
        "\n",
        "# Ускорение\n",
        "gamma = 0.9\n",
        "\n",
        "# Для чистоты выбора алгоритма, я буду стартовать веса с 1\n",
        "weights = [1] * len(X_true[0])\n",
        "\n",
        "# Кол-во элементов в строке X\n",
        "n = len(X_true[0])\n",
        "\n",
        "# Стартуем градиенты\n",
        "# Текущий градиент\n",
        "gradient = []\n",
        "# Предыдущий сдвиг\n",
        "v_t_previous = [0] * len(X_true[0])\n",
        "all_mses_algo2 = []\n",
        "while step < max_steps:\n",
        "  # Для чистоты эксперимента, каждый рандом будет равен step\n",
        "  random.seed(step)\n",
        "  # Берем номер для выбора данных\n",
        "  index = random.randint(0, n-1)\n",
        "  # X и y текущего шага\n",
        "  X_current = X_true[index]\n",
        "  y_current = y_true[index]\n",
        "  gradient = []\n",
        "  # Вычисляем текущий градиента\n",
        "  for x_i in X_current:\n",
        "    current_gradient = -2*(y_current - sum([w*x for w,x in \\\n",
        "                                          zip(weights,X_current)]))*x_i\n",
        "    gradient.append(current_gradient)\n",
        "  \n",
        "  # Применяем ускорение к предыдущему сдвигу\n",
        "  momentum_v_t_previous = [f*gamma for f in v_t_previous]\n",
        "  # Применяем шаг к градиенту\n",
        "  step_gradient = [f*(1-gamma) for f in gradient]\n",
        "  # Получаем новый сдвиг\n",
        "  v_t = [a+b for a,b in zip(momentum_v_t_previous,step_gradient)]\n",
        "  # В предыдущий сдвиг записываем новый\n",
        "  v_t_previous = v_t\n",
        "\n",
        "  # Делаем сдвиг весов\n",
        "  for vti, vti_value in enumerate(v_t):\n",
        "    weights[vti] = weights[vti] - vti_value * learning_rate\n",
        "\n",
        "  y_pred = sum([w*x for w,x in zip(weights,X_current)])\n",
        "  mse = new_grad.mse_function([y_pred], [y_current])\n",
        "\n",
        "  step += 1\n",
        "\n",
        "  new_grad.progress_tracker(step, mse)\n",
        "\n",
        "  # Последим за прогрессом\n",
        "  y_pred_algo_2 = []\n",
        "  for X_current in X_true:\n",
        "    y_pred_algo_2.append(sum([w*x for w,x in zip(weights,X_current)]))\n",
        "\n",
        "  mse_algo_2 = new_grad.mse_function(y_pred_algo_2, y_true)\n",
        "\n",
        "  all_mses_algo2.append(mse_algo_2)\n",
        "\n"
      ],
      "execution_count": null,
      "outputs": [
        {
          "output_type": "stream",
          "text": [
            "Шаг: 50000\n",
            "Функция потерь: 16.88\n"
          ],
          "name": "stdout"
        }
      ]
    },
    {
      "cell_type": "code",
      "metadata": {
        "id": "MLz60EZWb-WO"
      },
      "source": [
        ""
      ],
      "execution_count": null,
      "outputs": []
    },
    {
      "cell_type": "code",
      "metadata": {
        "id": "M2NcUginOEhC"
      },
      "source": [
        "import matplotlib.pyplot as plt"
      ],
      "execution_count": null,
      "outputs": []
    },
    {
      "cell_type": "code",
      "metadata": {
        "id": "IIW2Vn9sOVAU"
      },
      "source": [
        "steps = [i+1 for i, f in enumerate(all_mses_algo2)]"
      ],
      "execution_count": null,
      "outputs": []
    },
    {
      "cell_type": "code",
      "metadata": {
        "colab": {
          "base_uri": "https://localhost:8080/",
          "height": 336
        },
        "id": "h9um8nFeOEjZ",
        "outputId": "93026287-a5da-415b-a029-d28c26f6fed9"
      },
      "source": [
        "fig = plt.figure(figsize=(15, 5))\n",
        "ax = fig.add_subplot()\n",
        "ax.plot(steps, all_mses_algo1, color='#ff6361', \\\n",
        "        label='Первая модель')\n",
        "plt.plot(steps, all_mses_algo2, color='#ffa600', \\\n",
        "         label='Вторая модель')\n",
        "plt.title('Сравнение моделей')\n",
        "ax.legend()\n",
        "plt.show()"
      ],
      "execution_count": null,
      "outputs": [
        {
          "output_type": "display_data",
          "data": {
            "image/png": "[encoded data removed]",
            "text/plain": [
              "<Figure size 1080x360 with 1 Axes>"
            ]
          },
          "metadata": {
            "tags": [],
            "needs_background": "light"
          }
        }
      ]
    },
    {
      "cell_type": "code",
      "metadata": {
        "colab": {
          "base_uri": "https://localhost:8080/",
          "height": 336
        },
        "id": "Bi-RHaHQOEmI",
        "outputId": "c3bc86e4-f142-4e07-cebb-d301132c9983"
      },
      "source": [
        "fig = plt.figure(figsize=(15, 5))\n",
        "ax = fig.add_subplot()\n",
        "ax.plot(steps[:500], all_mses_algo1[:500], color='#ff6361', \\\n",
        "        label='Первая модель')\n",
        "plt.plot(steps[:500], all_mses_algo2[:500], color='#ffa600', \\\n",
        "         label='Вторая модель')\n",
        "plt.title('Сравнение моделей')\n",
        "ax.legend()\n",
        "plt.show()"
      ],
      "execution_count": null,
      "outputs": [
        {
          "output_type": "display_data",
          "data": {
            "image/png": "[encoded data removed]",
            "text/plain": [
              "<Figure size 1080x360 with 1 Axes>"
            ]
          },
          "metadata": {
            "tags": [],
            "needs_background": "light"
          }
        }
      ]
    },
    {
      "cell_type": "code",
      "metadata": {
        "colab": {
          "base_uri": "https://localhost:8080/",
          "height": 336
        },
        "id": "wc60FUFLOEn7",
        "outputId": "a2163afc-4169-40bf-c0c0-5ea63e18d810"
      },
      "source": [
        "fig = plt.figure(figsize=(15, 5))\n",
        "ax = fig.add_subplot()\n",
        "ax.plot(steps[-2000:], all_mses_algo1[-2000:], color='#ff6361', \\\n",
        "        label='Первая модель')\n",
        "plt.plot(steps[-2000:], all_mses_algo2[-2000:], color='#ffa600', \\\n",
        "         label='Вторая модель')\n",
        "plt.title('Сравнение моделей')\n",
        "ax.legend()\n",
        "plt.show()"
      ],
      "execution_count": null,
      "outputs": [
        {
          "output_type": "display_data",
          "data": {
            "image/png": "[encoded data removed]",
            "text/plain": [
              "<Figure size 1080x360 with 1 Axes>"
            ]
          },
          "metadata": {
            "tags": [],
            "needs_background": "light"
          }
        }
      ]
    },
    {
      "cell_type": "markdown",
      "metadata": {
        "id": "BGRBzwfnGkGK"
      },
      "source": [
        "Тесты показывают, что первая модель эффективнее. Ее и положим в класс"
      ]
    },
    {
      "cell_type": "markdown",
      "metadata": {
        "id": "pGTqoR-txRR1"
      },
      "source": [
        "# Финальный класс"
      ]
    },
    {
      "cell_type": "code",
      "metadata": {
        "id": "7oc16c76OEqK"
      },
      "source": [
        "class GradientDescents:\n",
        "  \n",
        "  '''\n",
        "  Имплементация градиентного спуска с нуля\n",
        "  '''\n",
        "\n",
        "  import random\n",
        "\n",
        "  def progress_tracker(self, step: int, cost_function: float) -> None:\n",
        "    '''\n",
        "    Функция позволяет отслеживать онлайн прогресс\n",
        "\n",
        "    :param step: текущий шаг\n",
        "    :param cost_function: значение кост-функции в данный момент\n",
        "\n",
        "    '''\n",
        "    from IPython.display import clear_output\n",
        "    clear_output(wait=True)\n",
        "    print('Шаг: {}'.format(step))\n",
        "    print('Функция потерь: {:.2f}'.format(cost_function))\n",
        "\n",
        "  def mse_function(self, y_true: list, y_pred: list) -> float:\n",
        "    '''\n",
        "    Функция, которая считет MSE\n",
        "\n",
        "    :param y_true: значения y, которые мы знаем из фактических данных\n",
        "    :param y_pred: значения y, которые мы получили в данный момент\n",
        "\n",
        "    :return mse: значеник MSE по формуле\n",
        "    '''\n",
        "    # Кол-во значений, которое мы сравнивам\n",
        "    n = len(y_true)\n",
        "    # Стартуем с нуля\n",
        "    pre_mse = 0\n",
        "    for index, value in enumerate(y_true):\n",
        "      pre_mse += (value - y_pred[index])**2\n",
        "    mse = pre_mse/n\n",
        "    return mse\n",
        "\n",
        "  def gradient_descent_multi(self, X_true: list, y_true: list, \\\n",
        "                              weights: list = None, max_steps: int = 10000, \\\n",
        "                              learning_rate: float = 0.003, \\\n",
        "                              save_steps: int = 0) -> dict:\n",
        "    '''\n",
        "    Градиентный спуск для нескольких переменных\n",
        "\n",
        "    :param X_true: фактические аттрибуты\n",
        "    :param y_true: фактические результаты\n",
        "    :param weights: стартовые веса, если не хотим начать обучение с рандома\n",
        "    :param learning_rate: коэффициент обучения\n",
        "    :param max_steps: максимальное кол-во шагов, при которых алгоритм остановится\n",
        "    :param save_steps: если 0, сохранится только последний шаг\n",
        "                        если значение отличное от нуля, \n",
        "                        будет сохраняться каждый i-ый шаг\n",
        "\n",
        "    :return {\n",
        "      :return weights: веса регресси\n",
        "      :return mse: значение MSE\n",
        "      :return steps: количество шагов\n",
        "      :return mse_list: значение MSE во вреия обучения, если save_steps > 0\n",
        "      :return weights_list: веса по мере обучения, если save_steps > 0\n",
        "    }\n",
        "    \n",
        "    '''\n",
        "\n",
        "    # Код для данных с 1 аттрибутом\n",
        "    if (type(X_true[0])==int) or (type(X_true[0])==float):\n",
        "      for i, x in enumerate(X_true):\n",
        "        X_true[i]=[x,1]\n",
        "    elif (type(X_true[0])==list) and (len(X_true[0])==1):\n",
        "      for i, x in enumerate(X_true):\n",
        "        X_true[i].append(1)\n",
        "\n",
        "    # Создаем рандомный спиок весов данных равный количеству атрибутов\n",
        "    if weights == None:\n",
        "      weights = [self.random.random() for f in X_true[0]]\n",
        "\n",
        "    if save_steps > 0:\n",
        "      mse_list = []\n",
        "      weights_list = []\n",
        "    \n",
        "    # MSE предыдущего шага\n",
        "    mse_prev = 0\n",
        "    mse = 999\n",
        "\n",
        "    # Кол-во экспериментов, которые у нас есть      \n",
        "    n = len(X_true)\n",
        "\n",
        "    step = 0\n",
        "    while (step <= max_steps) and (abs(mse_prev-mse)>1e-5):\n",
        "      # Считаем градиенты\n",
        "      gradients = []\n",
        "      for wi, w_value in enumerate(weights):\n",
        "        current_gradient=0\n",
        "        for yi, y_t_val in enumerate(y_true):\n",
        "          current_gradient += -2*(y_t_val - sum([w*x for w,x in \\\n",
        "                                                 zip(weights,X_true[yi])]))* X_true[yi][wi]\n",
        "        current_gradient = current_gradient/n\n",
        "        gradients.append(current_gradient)\n",
        "\n",
        "      # Делаем сдвиг весов\n",
        "      for gi, gr_value in enumerate(gradients):\n",
        "        weights[gi] = weights[gi] - learning_rate*gr_value\n",
        "\n",
        "      #Считаем y_pred\n",
        "      y_pred = []\n",
        "      for X_current in X_true:\n",
        "        y_pred.append(sum([w*x for w,x in zip(weights,X_current)]))\n",
        "      \n",
        "      step +=1\n",
        "      mse_prev = mse\n",
        "      mse = self.mse_function(y_true, y_pred)\n",
        "      self.progress_tracker(step, mse)\n",
        "\n",
        "      if save_steps > 0:\n",
        "        if step % save_steps == 0:\n",
        "          mse_list.append(mse)\n",
        "          weights_list.append(weights)\n",
        "\n",
        "    if save_steps > 0:\n",
        "      return_dict = {'weights': weights, 'mse':mse, 'steps': step-1, \\\n",
        "                      'mse_list': mse_list, 'weights_list': weights_list}\n",
        "    else:\n",
        "      return_dict = {'weights': weights, 'mse':mse, 'steps': step-1}\n",
        "\n",
        "    return return_dict\n",
        "\n",
        "  def momentum_gradient_descent(self, X_true: list, y_true: list, \\\n",
        "                                weights: list = None, max_steps: int = 10000, \\\n",
        "                                learning_rate: float = 0.003, gamma: float = 0.9, \\\n",
        "                                save_steps: int = 0) -> dict:\n",
        "    '''\n",
        "    Градиентный спуск с ускорением\n",
        "\n",
        "    :param X_true: фактические аттрибуты\n",
        "    :param y_true: фактические результаты\n",
        "    :param weights: стартовые веса, если не хотим начать обучение с рандома\n",
        "    :param learning_rate: коэффициент обучения\n",
        "    :param max_steps: максимальное кол-во шагов, при которых алгоритм остановится\n",
        "    :param save_steps: если 0, сохранится только последний шаг\n",
        "                        если значение отличное от нуля, \n",
        "                        будет сохраняться каждый i-ый шаг\n",
        "\n",
        "    :return {\n",
        "      :return weights: веса регресси\n",
        "      :return mse: значение MSE\n",
        "      :return steps: количество шагов\n",
        "      :return mse_list: значение MSE во вреия обучения, если save_steps > 0\n",
        "      :return weights_list: веса по мере обучения, если save_steps > 0\n",
        "    }\n",
        "                      \n",
        "    '''\n",
        "    # Код для данных с 1 аттрибутом\n",
        "    if (type(X_true[0])==int) or (type(X_true[0])==float):\n",
        "      for i, x in enumerate(X_true):\n",
        "        X_true[i]=[x,1]\n",
        "    elif (type(X_true[0])==list) and (len(X_true[0])==1):\n",
        "      for i, x in enumerate(X_true):\n",
        "        X_true[i].append(1)\n",
        "\n",
        "\n",
        "    if save_steps > 0:\n",
        "      mse_list = []\n",
        "      weights_list = []\n",
        "\n",
        "    step = 0\n",
        "    mse_prev = 999999999\n",
        "\n",
        "\n",
        "    # Для чистоты выбора алгоритма, я буду стартовать веса с 1\n",
        "    if weights == None:\n",
        "      weights = [self.random.random() for f in X_true[0]]\n",
        "\n",
        "    # Кол-во элементов в строке X\n",
        "    n = len(X_true[0])\n",
        "\n",
        "    # Стартуем градиенты\n",
        "    # Текущий градиент\n",
        "    gradient = []\n",
        "    # Предыдущий сдвиг\n",
        "    v_t_previous = [0] * len(X_true[0])\n",
        "    \n",
        "    # TO DO: По-хорошему, надо написать условие по тестовой выборке\n",
        "    while step < max_steps:\n",
        "\n",
        "      # Берем номер для выбора данных\n",
        "      index = self.random.randint(0, n-1)\n",
        "      # X и y текущего шага\n",
        "      X_current = X_true[index]\n",
        "      y_current = y_true[index]\n",
        "      gradient = []\n",
        "      # Вычисляем текущий градиента\n",
        "      for x_i in X_current:\n",
        "        current_gradient = -2*(y_current - sum([w*x for w,x in \\\n",
        "                                              zip(weights,X_current)]))*x_i\n",
        "        gradient.append(current_gradient)\n",
        "      \n",
        "      # Применяем ускорение к предыдущему сдвигу\n",
        "      momentum_v_t_previous = [f*gamma for f in v_t_previous]\n",
        "      # Применяем шаг к градиенту\n",
        "      step_gradient = [f*learning_rate for f in gradient]\n",
        "      # Получаем новый сдвиг\n",
        "      v_t = [a+b for a,b in zip(momentum_v_t_previous,step_gradient)]\n",
        "      # В предыдущий сдвиг записываем новый\n",
        "      v_t_previous = v_t\n",
        "\n",
        "      # Делаем сдвиг весов\n",
        "      for vti, vti_value in enumerate(v_t):\n",
        "        weights[vti] = weights[vti] - vti_value\n",
        "\n",
        "      y_pred = sum([w*x for w,x in zip(weights,X_current)])\n",
        "\n",
        "      y_pred_algo = []\n",
        "      for X_current in X_true:\n",
        "        y_pred_algo.append(sum([w*x for w,x in zip(weights,X_current)]))\n",
        "\n",
        "      \n",
        "      mse = self.mse_function(y_pred_algo, y_true)\n",
        "\n",
        "      if mse < mse_prev:\n",
        "        # Сохраняю только лучший результат\n",
        "        # Опять же mse правильнее было бы считать на тестовых данных\n",
        "        final_weights = weights\n",
        "\n",
        "      mse_prev = mse\n",
        "\n",
        "      step += 1\n",
        "\n",
        "      self.progress_tracker(step, mse)\n",
        "\n",
        "      if save_steps > 0:\n",
        "        if step % save_steps == 0:\n",
        "          mse_list.append(mse)\n",
        "          weights_list.append(weights)\n",
        "\n",
        "    if save_steps > 0:\n",
        "      return_dict = {'weights': final_weights, 'mse':mse, 'steps': step-1, \\\n",
        "                      'mse_list': mse_list, 'weights_list': weights_list}\n",
        "    else:\n",
        "      return_dict = {'weights': final_weights, 'mse':mse, 'steps': step-1}\n",
        "\n",
        "    return return_dict"
      ],
      "execution_count": null,
      "outputs": []
    },
    {
      "cell_type": "markdown",
      "metadata": {
        "id": "l1C2cLYcxVim"
      },
      "source": [
        "## Тест на Boston Dataset"
      ]
    },
    {
      "cell_type": "code",
      "metadata": {
        "id": "aSy-qaSwVV_Z"
      },
      "source": [
        "# Загрузим данные из Boston Dataset\n",
        "from sklearn.datasets import load_boston\n",
        "X, y = load_boston(return_X_y=True)\n",
        "X_true = []\n",
        "for i in X:\n",
        "  x_s_list = [f for f in i]\n",
        "  # x_s_list.append(1)\n",
        "  X_true.append(x_s_list)\n",
        "y_true = [f for f in y]\n",
        "del X, y"
      ],
      "execution_count": null,
      "outputs": []
    },
    {
      "cell_type": "code",
      "metadata": {
        "id": "2ntXtZgNOEsm"
      },
      "source": [
        "msgd = GradientDescents()"
      ],
      "execution_count": null,
      "outputs": []
    },
    {
      "cell_type": "code",
      "metadata": {
        "id": "KPE-G1AzOEvQ",
        "colab": {
          "base_uri": "https://localhost:8080/"
        },
        "outputId": "8fe50d5b-361e-459f-9931-3459b242fa7c"
      },
      "source": [
        "gd = msgd.momentum_gradient_descent(X_true, y_true, learning_rate=0.000003, max_steps=1000)"
      ],
      "execution_count": null,
      "outputs": [
        {
          "output_type": "stream",
          "text": [
            "Шаг: 1000\n",
            "Функция потерь: 3815.04\n"
          ],
          "name": "stdout"
        }
      ]
    },
    {
      "cell_type": "code",
      "metadata": {
        "id": "y0OG8GB8PbRK"
      },
      "source": [
        "y_pred_algo_1 = []\n",
        "for X_current in X_true:\n",
        "  y_pred_algo_1.append(sum([w*x for w,x in zip(gd['weights'],X_current)]))\n",
        "\n",
        "mse_algo_1 = msgd.mse_function(y_pred_algo_1, y_true)"
      ],
      "execution_count": null,
      "outputs": []
    },
    {
      "cell_type": "code",
      "metadata": {
        "colab": {
          "base_uri": "https://localhost:8080/"
        },
        "id": "zBYmS7a2PN-7",
        "outputId": "73c03323-ddeb-46d1-c232-df87e4f532a0"
      },
      "source": [
        "gd_next = msgd.momentum_gradient_descent(X_true, y_true, learning_rate=0.000003, max_steps=10000,\\\n",
        "                                         weights = gd['weights'])"
      ],
      "execution_count": null,
      "outputs": [
        {
          "output_type": "stream",
          "text": [
            "Шаг: 10000\n",
            "Функция потерь: 1013.34\n"
          ],
          "name": "stdout"
        }
      ]
    },
    {
      "cell_type": "code",
      "metadata": {
        "id": "OmaoP5SvPzwh"
      },
      "source": [
        "y_pred_algo_2 = []\n",
        "for X_current in X_true:\n",
        "  y_pred_algo_2.append(sum([w*x for w,x in zip(gd_next['weights'],X_current)]))\n",
        "\n",
        "mse_algo_2 = msgd.mse_function(y_pred_algo_2, y_true)"
      ],
      "execution_count": null,
      "outputs": []
    },
    {
      "cell_type": "code",
      "metadata": {
        "colab": {
          "base_uri": "https://localhost:8080/"
        },
        "id": "gdeS1CgOP-Rj",
        "outputId": "60df70c7-cf01-4984-a212-8bdc5136f1ba"
      },
      "source": [
        "mse_algo_1"
      ],
      "execution_count": null,
      "outputs": [
        {
          "output_type": "execute_result",
          "data": {
            "text/plain": [
              "3815.0380628428316"
            ]
          },
          "metadata": {
            "tags": []
          },
          "execution_count": 8
        }
      ]
    },
    {
      "cell_type": "code",
      "metadata": {
        "colab": {
          "base_uri": "https://localhost:8080/"
        },
        "id": "9uZ3nT14P_SK",
        "outputId": "bccd9dd9-c3ed-4e70-f968-0ff1500466ca"
      },
      "source": [
        "mse_algo_2"
      ],
      "execution_count": null,
      "outputs": [
        {
          "output_type": "execute_result",
          "data": {
            "text/plain": [
              "1013.3435556810301"
            ]
          },
          "metadata": {
            "tags": []
          },
          "execution_count": 9
        }
      ]
    },
    {
      "cell_type": "code",
      "metadata": {
        "colab": {
          "base_uri": "https://localhost:8080/"
        },
        "id": "mzU3l1lyVYUq",
        "outputId": "e5fc9b1c-63fe-40f0-c7f6-169d58d8af95"
      },
      "source": [
        "gd_next = msgd.momentum_gradient_descent(X_true, y_true, learning_rate=0.000003, max_steps=50000,\\\n",
        "                                         weights = gd_next['weights'])"
      ],
      "execution_count": null,
      "outputs": [
        {
          "output_type": "stream",
          "text": [
            "Шаг: 50000\n",
            "Функция потерь: 963.54\n"
          ],
          "name": "stdout"
        }
      ]
    },
    {
      "cell_type": "code",
      "metadata": {
        "id": "5ryh5pgUV3O_"
      },
      "source": [
        "y_pred_algo_3 = []\n",
        "for X_current in X_true:\n",
        "  y_pred_algo_3.append(sum([w*x for w,x in zip(gd_next['weights'],X_current)]))\n",
        "\n",
        "mse_algo_3 = msgd.mse_function(y_pred_algo_3, y_true)"
      ],
      "execution_count": null,
      "outputs": []
    },
    {
      "cell_type": "code",
      "metadata": {
        "colab": {
          "base_uri": "https://localhost:8080/"
        },
        "id": "ezIS9nrzV7DK",
        "outputId": "f1b28445-b894-434f-8ec1-94dfa16ee65e"
      },
      "source": [
        "mse_algo_3"
      ],
      "execution_count": null,
      "outputs": [
        {
          "output_type": "execute_result",
          "data": {
            "text/plain": [
              "963.5357397887992"
            ]
          },
          "metadata": {
            "tags": []
          },
          "execution_count": 12
        }
      ]
    },
    {
      "cell_type": "markdown",
      "metadata": {
        "id": "bPIC6iecVdpN"
      },
      "source": [
        "Конечно, правильнее было бы считать MSE на тестовом датасете, но мы видим, что результат улучшается по мере обучения"
      ]
    },
    {
      "cell_type": "code",
      "metadata": {
        "id": "BV3_N70Bd0vM"
      },
      "source": [
        ""
      ],
      "execution_count": null,
      "outputs": []
    }
  ]
}